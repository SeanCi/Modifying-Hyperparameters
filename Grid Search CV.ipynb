{
 "cells": [
  {
   "cell_type": "code",
   "execution_count": 21,
   "id": "8f6378ea",
   "metadata": {},
   "outputs": [],
   "source": [
    "import pandas as pd\n",
    "import numpy as np\n",
    "from sklearn.datasets import make_classification\n",
    "\n",
    "from sklearn.model_selection import train_test_split\n",
    "from sklearn.model_selection import cross_val_score\n",
    "from sklearn.model_selection import GridSearchCV\n",
    "\n",
    "\n",
    "from sklearn.ensemble import RandomForestClassifier\n",
    "import time"
   ]
  },
  {
   "cell_type": "code",
   "execution_count": 2,
   "id": "a26933f8",
   "metadata": {},
   "outputs": [
    {
     "data": {
      "text/html": [
       "<div>\n",
       "<style scoped>\n",
       "    .dataframe tbody tr th:only-of-type {\n",
       "        vertical-align: middle;\n",
       "    }\n",
       "\n",
       "    .dataframe tbody tr th {\n",
       "        vertical-align: top;\n",
       "    }\n",
       "\n",
       "    .dataframe thead th {\n",
       "        text-align: right;\n",
       "    }\n",
       "</style>\n",
       "<table border=\"1\" class=\"dataframe\">\n",
       "  <thead>\n",
       "    <tr style=\"text-align: right;\">\n",
       "      <th></th>\n",
       "      <th>0</th>\n",
       "      <th>1</th>\n",
       "      <th>2</th>\n",
       "      <th>3</th>\n",
       "      <th>4</th>\n",
       "      <th>5</th>\n",
       "      <th>6</th>\n",
       "      <th>7</th>\n",
       "      <th>8</th>\n",
       "      <th>9</th>\n",
       "      <th>...</th>\n",
       "      <th>11</th>\n",
       "      <th>12</th>\n",
       "      <th>13</th>\n",
       "      <th>14</th>\n",
       "      <th>15</th>\n",
       "      <th>16</th>\n",
       "      <th>17</th>\n",
       "      <th>18</th>\n",
       "      <th>19</th>\n",
       "      <th>0</th>\n",
       "    </tr>\n",
       "  </thead>\n",
       "  <tbody>\n",
       "    <tr>\n",
       "      <th>6311</th>\n",
       "      <td>-1.533606</td>\n",
       "      <td>-0.213900</td>\n",
       "      <td>0.590321</td>\n",
       "      <td>0.348958</td>\n",
       "      <td>0.825947</td>\n",
       "      <td>0.193350</td>\n",
       "      <td>0.431025</td>\n",
       "      <td>-0.811489</td>\n",
       "      <td>-0.120019</td>\n",
       "      <td>1.740726</td>\n",
       "      <td>...</td>\n",
       "      <td>0.435130</td>\n",
       "      <td>0.437727</td>\n",
       "      <td>2.527851</td>\n",
       "      <td>-0.205497</td>\n",
       "      <td>0.267146</td>\n",
       "      <td>-0.308128</td>\n",
       "      <td>-0.667947</td>\n",
       "      <td>0.987385</td>\n",
       "      <td>-1.877349</td>\n",
       "      <td>4</td>\n",
       "    </tr>\n",
       "    <tr>\n",
       "      <th>633</th>\n",
       "      <td>1.027859</td>\n",
       "      <td>-2.423799</td>\n",
       "      <td>0.165078</td>\n",
       "      <td>-0.532186</td>\n",
       "      <td>1.171944</td>\n",
       "      <td>1.682234</td>\n",
       "      <td>0.682647</td>\n",
       "      <td>0.587538</td>\n",
       "      <td>1.224519</td>\n",
       "      <td>-0.209990</td>\n",
       "      <td>...</td>\n",
       "      <td>-1.640300</td>\n",
       "      <td>1.033993</td>\n",
       "      <td>-1.660383</td>\n",
       "      <td>0.205757</td>\n",
       "      <td>-1.517924</td>\n",
       "      <td>-0.688020</td>\n",
       "      <td>0.388843</td>\n",
       "      <td>-1.242865</td>\n",
       "      <td>-1.765608</td>\n",
       "      <td>4</td>\n",
       "    </tr>\n",
       "    <tr>\n",
       "      <th>5999</th>\n",
       "      <td>-1.392096</td>\n",
       "      <td>-1.384448</td>\n",
       "      <td>1.454821</td>\n",
       "      <td>-0.793378</td>\n",
       "      <td>0.626487</td>\n",
       "      <td>5.752032</td>\n",
       "      <td>3.894037</td>\n",
       "      <td>-1.159049</td>\n",
       "      <td>-5.266555</td>\n",
       "      <td>-0.184831</td>\n",
       "      <td>...</td>\n",
       "      <td>2.402837</td>\n",
       "      <td>3.321841</td>\n",
       "      <td>-0.277458</td>\n",
       "      <td>-7.050049</td>\n",
       "      <td>1.925165</td>\n",
       "      <td>-1.255284</td>\n",
       "      <td>-0.169360</td>\n",
       "      <td>-0.685185</td>\n",
       "      <td>0.343228</td>\n",
       "      <td>4</td>\n",
       "    </tr>\n",
       "    <tr>\n",
       "      <th>653</th>\n",
       "      <td>-0.336389</td>\n",
       "      <td>-0.221559</td>\n",
       "      <td>1.075803</td>\n",
       "      <td>-0.032447</td>\n",
       "      <td>-0.324455</td>\n",
       "      <td>0.273970</td>\n",
       "      <td>1.367788</td>\n",
       "      <td>0.148602</td>\n",
       "      <td>-0.416866</td>\n",
       "      <td>-0.685343</td>\n",
       "      <td>...</td>\n",
       "      <td>0.565078</td>\n",
       "      <td>1.892259</td>\n",
       "      <td>-0.165356</td>\n",
       "      <td>-0.638975</td>\n",
       "      <td>1.223568</td>\n",
       "      <td>-1.993263</td>\n",
       "      <td>-0.054601</td>\n",
       "      <td>0.805776</td>\n",
       "      <td>-0.486341</td>\n",
       "      <td>2</td>\n",
       "    </tr>\n",
       "    <tr>\n",
       "      <th>1663</th>\n",
       "      <td>1.849820</td>\n",
       "      <td>-0.064440</td>\n",
       "      <td>-0.324567</td>\n",
       "      <td>-0.639968</td>\n",
       "      <td>-0.287194</td>\n",
       "      <td>3.173826</td>\n",
       "      <td>2.169524</td>\n",
       "      <td>0.229518</td>\n",
       "      <td>-2.773597</td>\n",
       "      <td>-0.110143</td>\n",
       "      <td>...</td>\n",
       "      <td>-1.634777</td>\n",
       "      <td>2.771546</td>\n",
       "      <td>0.778344</td>\n",
       "      <td>-3.969918</td>\n",
       "      <td>1.151472</td>\n",
       "      <td>-0.435844</td>\n",
       "      <td>0.061497</td>\n",
       "      <td>-1.005551</td>\n",
       "      <td>-0.312437</td>\n",
       "      <td>4</td>\n",
       "    </tr>\n",
       "  </tbody>\n",
       "</table>\n",
       "<p>5 rows × 21 columns</p>\n",
       "</div>"
      ],
      "text/plain": [
       "            0         1         2         3         4         5         6   \\\n",
       "6311 -1.533606 -0.213900  0.590321  0.348958  0.825947  0.193350  0.431025   \n",
       "633   1.027859 -2.423799  0.165078 -0.532186  1.171944  1.682234  0.682647   \n",
       "5999 -1.392096 -1.384448  1.454821 -0.793378  0.626487  5.752032  3.894037   \n",
       "653  -0.336389 -0.221559  1.075803 -0.032447 -0.324455  0.273970  1.367788   \n",
       "1663  1.849820 -0.064440 -0.324567 -0.639968 -0.287194  3.173826  2.169524   \n",
       "\n",
       "            7         8         9   ...        11        12        13  \\\n",
       "6311 -0.811489 -0.120019  1.740726  ...  0.435130  0.437727  2.527851   \n",
       "633   0.587538  1.224519 -0.209990  ... -1.640300  1.033993 -1.660383   \n",
       "5999 -1.159049 -5.266555 -0.184831  ...  2.402837  3.321841 -0.277458   \n",
       "653   0.148602 -0.416866 -0.685343  ...  0.565078  1.892259 -0.165356   \n",
       "1663  0.229518 -2.773597 -0.110143  ... -1.634777  2.771546  0.778344   \n",
       "\n",
       "            14        15        16        17        18        19  0   \n",
       "6311 -0.205497  0.267146 -0.308128 -0.667947  0.987385 -1.877349   4  \n",
       "633   0.205757 -1.517924 -0.688020  0.388843 -1.242865 -1.765608   4  \n",
       "5999 -7.050049  1.925165 -1.255284 -0.169360 -0.685185  0.343228   4  \n",
       "653  -0.638975  1.223568 -1.993263 -0.054601  0.805776 -0.486341   2  \n",
       "1663 -3.969918  1.151472 -0.435844  0.061497 -1.005551 -0.312437   4  \n",
       "\n",
       "[5 rows x 21 columns]"
      ]
     },
     "execution_count": 2,
     "metadata": {},
     "output_type": "execute_result"
    }
   ],
   "source": [
    "X, y = make_classification(\n",
    "    n_samples=10000, \n",
    "    n_features=20,\n",
    "    n_informative=4,\n",
    "    n_classes=5,\n",
    "    flip_y=0.15,\n",
    "    weights=[0.05, 0.1, 0.15, 0.20, 0.5],\n",
    "    random_state=42\n",
    ")\n",
    "\n",
    "df = pd.concat([pd.DataFrame(X), pd.Series(y)], axis=1)\n",
    "\n",
    "df.sample(5)"
   ]
  },
  {
   "cell_type": "code",
   "execution_count": 108,
   "id": "82a8864d",
   "metadata": {},
   "outputs": [],
   "source": [
    "parameters = {'n_estimators': [1000,2000], 'criterion': ('gini','entropy')} "
   ]
  },
  {
   "cell_type": "code",
   "execution_count": 38,
   "id": "05b884ed",
   "metadata": {},
   "outputs": [],
   "source": [
    "forest = RandomForestClassifier(random_state=42)\n",
    "clf = GridSearchCV(forest, {'criterion': ('gini','entropy'), 'bootstrap': (True,False), 'max_features': (None,'sqrt')}, \n",
    "                   scoring='accuracy')"
   ]
  },
  {
   "cell_type": "code",
   "execution_count": 39,
   "id": "c42f0e1f",
   "metadata": {},
   "outputs": [
    {
     "data": {
      "text/plain": [
       "393.5669424533844"
      ]
     },
     "execution_count": 39,
     "metadata": {},
     "output_type": "execute_result"
    }
   ],
   "source": [
    "a = time.time()\n",
    "clf.fit(X,y)\n",
    "b = time.time()\n",
    "\n",
    "b-a"
   ]
  },
  {
   "cell_type": "code",
   "execution_count": 40,
   "id": "5e0b6204",
   "metadata": {},
   "outputs": [
    {
     "data": {
      "text/plain": [
       "RandomForestClassifier(bootstrap=False, criterion='entropy',\n",
       "                       max_features='sqrt', random_state=42)"
      ]
     },
     "execution_count": 40,
     "metadata": {},
     "output_type": "execute_result"
    }
   ],
   "source": [
    "clf.best_estimator_"
   ]
  },
  {
   "cell_type": "code",
   "execution_count": 41,
   "id": "c1933fa7",
   "metadata": {},
   "outputs": [
    {
     "data": {
      "text/plain": [
       "0.7315"
      ]
     },
     "execution_count": 41,
     "metadata": {},
     "output_type": "execute_result"
    }
   ],
   "source": [
    "clf.best_score_"
   ]
  }
 ],
 "metadata": {
  "kernelspec": {
   "display_name": "Python 3 (ipykernel)",
   "language": "python",
   "name": "python3"
  },
  "language_info": {
   "codemirror_mode": {
    "name": "ipython",
    "version": 3
   },
   "file_extension": ".py",
   "mimetype": "text/x-python",
   "name": "python",
   "nbconvert_exporter": "python",
   "pygments_lexer": "ipython3",
   "version": "3.8.10"
  }
 },
 "nbformat": 4,
 "nbformat_minor": 5
}
